{
 "cells": [
  {
   "cell_type": "code",
   "execution_count": 228,
   "metadata": {
    "collapsed": false
   },
   "outputs": [],
   "source": [
    "%matplotlib inline\n",
    "import pandas as pd\n",
    "import numpy as np\n",
    "import matplotlib.pyplot\n",
    "import seaborn as sns\n",
    "import pydot\n",
    "\n",
    "from sklearn import preprocessing\n",
    "from sklearn.externals.six import StringIO  \n",
    "from sklearn.base import BaseEstimator, TransformerMixin\n",
    "from sklearn.pipeline import Pipeline, FeatureUnion\n",
    "from sklearn.feature_extraction import DictVectorizer\n",
    "from sklearn.tree import DecisionTreeClassifier, export_graphviz"
   ]
  },
  {
   "cell_type": "code",
   "execution_count": 184,
   "metadata": {
    "collapsed": true
   },
   "outputs": [],
   "source": [
    "normalized_columns = [\n",
    "    'eloadas_latogatas',\n",
    "    'jegyzet_eloadason',\n",
    "    'gyakorlat_latogatas',\n",
    "    'mibol_tanul',\n",
    "    'egyedul_vagy_csoportosan',\n",
    "    'jegyzet_tanulashoz',\n",
    "    'ajanlott_olvasas',\n",
    "    'zh_keszules',\n",
    "    'vizsgara_keszules',\n",
    "    'tanulasi_napszak',\n",
    "    'szamonkeres_elott_tanulni',\n",
    "    'zenehalgatas',\n",
    "    'lakhely',\n",
    "    'megoldas_reprodukalasa',\n",
    "    'elert_kredit'\n",
    "]\n",
    "\n",
    "ordinal_transformations = {\n",
    "    u'Soha': 0,\n",
    "    u'Néha': 1,\n",
    "    u'Rendszeresen': 2,\n",
    "    u'Nem': 0,\n",
    "    u'Igen': 1,\n",
    "    u'0 - 10 kredit': 0,\n",
    "    u'11 - 15 kredit': 1, \n",
    "    u'16 - 20 kredit': 2,\n",
    "    u'21 - 25 kredit': 3, \n",
    "    u'26 - 30 kredit': 4, \n",
    "    u'31 - 37 kredit': 5,\n",
    "    u'38 vagy annál több kredit': 6\n",
    "}\n",
    "\n",
    "ordinal_cols = [\n",
    "    'eloadas_latogatas',\n",
    "    'jegyzet_eloadason',\n",
    "    'gyakorlat_latogatas',\n",
    "    'jegyzet_tanulashoz',\n",
    "    'ajanlott_olvasas',\n",
    "    'szamonkeres_elott_tanulni',\n",
    "    'zenehalgatas',\n",
    "    'megoldas_reprodukalasa',\n",
    "]\n",
    "nominal_cols = [\n",
    "    'mibol_tanul',\n",
    "    'egyedul_vagy_csoportosan',\n",
    "    'zh_keszules',\n",
    "    'vizsgara_keszules',\n",
    "    'tanulasi_napszak',\n",
    "    'lakhely',\n",
    "]\n",
    "target_col = ['elert_kredit']"
   ]
  },
  {
   "cell_type": "code",
   "execution_count": 185,
   "metadata": {
    "collapsed": false
   },
   "outputs": [],
   "source": [
    "kerdo_iv = pd.read_csv(\"kerdo_iv.csv\")\n",
    "kerdo_iv = kerdo_iv[kerdo_iv.columns[1:]]\n",
    "kerdo_iv.columns = normalized_columns"
   ]
  },
  {
   "cell_type": "code",
   "execution_count": 186,
   "metadata": {
    "collapsed": false
   },
   "outputs": [],
   "source": [
    "for column in ordinal_cols+target_col:\n",
    "    kerdo_iv[column] = kerdo_iv[column].apply(lambda x: transformations[x.decode('utf-8')])"
   ]
  },
  {
   "cell_type": "code",
   "execution_count": 187,
   "metadata": {
    "collapsed": false
   },
   "outputs": [
    {
     "data": {
      "text/html": [
       "<div>\n",
       "<table border=\"1\" class=\"dataframe\">\n",
       "  <thead>\n",
       "    <tr style=\"text-align: right;\">\n",
       "      <th></th>\n",
       "      <th>eloadas_latogatas</th>\n",
       "      <th>jegyzet_eloadason</th>\n",
       "      <th>gyakorlat_latogatas</th>\n",
       "      <th>mibol_tanul</th>\n",
       "      <th>egyedul_vagy_csoportosan</th>\n",
       "      <th>jegyzet_tanulashoz</th>\n",
       "      <th>ajanlott_olvasas</th>\n",
       "      <th>zh_keszules</th>\n",
       "      <th>vizsgara_keszules</th>\n",
       "      <th>tanulasi_napszak</th>\n",
       "      <th>szamonkeres_elott_tanulni</th>\n",
       "      <th>zenehalgatas</th>\n",
       "      <th>lakhely</th>\n",
       "      <th>megoldas_reprodukalasa</th>\n",
       "      <th>elert_kredit</th>\n",
       "    </tr>\n",
       "  </thead>\n",
       "  <tbody>\n",
       "    <tr>\n",
       "      <th>0</th>\n",
       "      <td>1</td>\n",
       "      <td>0</td>\n",
       "      <td>2</td>\n",
       "      <td>Diasorok</td>\n",
       "      <td>Csoportosan</td>\n",
       "      <td>1</td>\n",
       "      <td>0</td>\n",
       "      <td>Pár nappal</td>\n",
       "      <td>1 héttel</td>\n",
       "      <td>Délután</td>\n",
       "      <td>2</td>\n",
       "      <td>1</td>\n",
       "      <td>Albérlet</td>\n",
       "      <td>1</td>\n",
       "      <td>4</td>\n",
       "    </tr>\n",
       "    <tr>\n",
       "      <th>1</th>\n",
       "      <td>1</td>\n",
       "      <td>1</td>\n",
       "      <td>2</td>\n",
       "      <td>Mások által készített jegyzetből</td>\n",
       "      <td>Egyedül</td>\n",
       "      <td>1</td>\n",
       "      <td>1</td>\n",
       "      <td>Pár nappal</td>\n",
       "      <td>1 héttel</td>\n",
       "      <td>Éjszaka / este</td>\n",
       "      <td>2</td>\n",
       "      <td>2</td>\n",
       "      <td>Kollégiumban</td>\n",
       "      <td>2</td>\n",
       "      <td>0</td>\n",
       "    </tr>\n",
       "    <tr>\n",
       "      <th>2</th>\n",
       "      <td>1</td>\n",
       "      <td>0</td>\n",
       "      <td>2</td>\n",
       "      <td>Diasorok</td>\n",
       "      <td>Egyedül</td>\n",
       "      <td>1</td>\n",
       "      <td>0</td>\n",
       "      <td>1 héttel</td>\n",
       "      <td>1 héttel</td>\n",
       "      <td>Délután</td>\n",
       "      <td>2</td>\n",
       "      <td>1</td>\n",
       "      <td>Albérlet</td>\n",
       "      <td>0</td>\n",
       "      <td>4</td>\n",
       "    </tr>\n",
       "    <tr>\n",
       "      <th>3</th>\n",
       "      <td>1</td>\n",
       "      <td>0</td>\n",
       "      <td>1</td>\n",
       "      <td>VikWikis anyag</td>\n",
       "      <td>Csoportosan</td>\n",
       "      <td>1</td>\n",
       "      <td>0</td>\n",
       "      <td>Pár nappal</td>\n",
       "      <td>1 héttel</td>\n",
       "      <td>Éjszaka / este</td>\n",
       "      <td>2</td>\n",
       "      <td>2</td>\n",
       "      <td>Kollégiumban</td>\n",
       "      <td>1</td>\n",
       "      <td>5</td>\n",
       "    </tr>\n",
       "    <tr>\n",
       "      <th>4</th>\n",
       "      <td>1</td>\n",
       "      <td>0</td>\n",
       "      <td>1</td>\n",
       "      <td>VikWikis anyag</td>\n",
       "      <td>Egyedül</td>\n",
       "      <td>1</td>\n",
       "      <td>0</td>\n",
       "      <td>1 héttel</td>\n",
       "      <td>1 héttel</td>\n",
       "      <td>Éjszaka / este</td>\n",
       "      <td>2</td>\n",
       "      <td>2</td>\n",
       "      <td>Otthon</td>\n",
       "      <td>1</td>\n",
       "      <td>4</td>\n",
       "    </tr>\n",
       "  </tbody>\n",
       "</table>\n",
       "</div>"
      ],
      "text/plain": [
       "   eloadas_latogatas  jegyzet_eloadason  gyakorlat_latogatas  \\\n",
       "0                  1                  0                    2   \n",
       "1                  1                  1                    2   \n",
       "2                  1                  0                    2   \n",
       "3                  1                  0                    1   \n",
       "4                  1                  0                    1   \n",
       "\n",
       "                        mibol_tanul egyedul_vagy_csoportosan  \\\n",
       "0                          Diasorok              Csoportosan   \n",
       "1  Mások által készített jegyzetből                  Egyedül   \n",
       "2                          Diasorok                  Egyedül   \n",
       "3                    VikWikis anyag              Csoportosan   \n",
       "4                    VikWikis anyag                  Egyedül   \n",
       "\n",
       "   jegyzet_tanulashoz  ajanlott_olvasas zh_keszules vizsgara_keszules  \\\n",
       "0                   1                 0  Pár nappal          1 héttel   \n",
       "1                   1                 1  Pár nappal          1 héttel   \n",
       "2                   1                 0    1 héttel          1 héttel   \n",
       "3                   1                 0  Pár nappal          1 héttel   \n",
       "4                   1                 0    1 héttel          1 héttel   \n",
       "\n",
       "  tanulasi_napszak  szamonkeres_elott_tanulni  zenehalgatas       lakhely  \\\n",
       "0          Délután                          2             1      Albérlet   \n",
       "1   Éjszaka / este                          2             2  Kollégiumban   \n",
       "2          Délután                          2             1      Albérlet   \n",
       "3   Éjszaka / este                          2             2  Kollégiumban   \n",
       "4   Éjszaka / este                          2             2        Otthon   \n",
       "\n",
       "   megoldas_reprodukalasa  elert_kredit  \n",
       "0                       1             4  \n",
       "1                       2             0  \n",
       "2                       0             4  \n",
       "3                       1             5  \n",
       "4                       1             4  "
      ]
     },
     "execution_count": 187,
     "metadata": {},
     "output_type": "execute_result"
    }
   ],
   "source": [
    "kerdo_iv.head()"
   ]
  },
  {
   "cell_type": "markdown",
   "metadata": {},
   "source": [
    "# Nominálisok átírása"
   ]
  },
  {
   "cell_type": "code",
   "execution_count": 199,
   "metadata": {
    "collapsed": false
   },
   "outputs": [],
   "source": [
    "class ItemSelector(BaseEstimator, TransformerMixin):\n",
    "\n",
    "    def __init__(self, key, transpose=False):\n",
    "        self.key = key\n",
    "        self.transpose = transpose\n",
    "\n",
    "    def fit(self, X, y=None):\n",
    "        return self\n",
    "\n",
    "    def transform(self, X, y=None):\n",
    "        X = X[self.key].values\n",
    "        if self.transpose:\n",
    "            return X[:, np.newaxis]\n",
    "        return X\n",
    "    \n",
    "    \n",
    "class ItemsToDictorizer(BaseEstimator, TransformerMixin):\n",
    "    def __init__(self, key):\n",
    "        self.key = key\n",
    "\n",
    "    def fit(self, X, y=None):\n",
    "        return self\n",
    "\n",
    "    def transform(self, X, y=None):\n",
    "        return [{self.key: val} for val in X]\n",
    "\n",
    "    \n",
    "class IdentityTransformer(BaseEstimator, TransformerMixin):\n",
    "\n",
    "    def fit(self, X, y=None):\n",
    "        return self\n",
    "\n",
    "    def transform(self, X, y=None):\n",
    "        return X"
   ]
  },
  {
   "cell_type": "markdown",
   "metadata": {},
   "source": [
    "# Data and Target"
   ]
  },
  {
   "cell_type": "code",
   "execution_count": 200,
   "metadata": {
    "collapsed": false
   },
   "outputs": [
    {
     "data": {
      "text/plain": [
       "(141, 1)"
      ]
     },
     "execution_count": 200,
     "metadata": {},
     "output_type": "execute_result"
    }
   ],
   "source": [
    "target = kerdo_iv[target_col].values\n",
    "target.shape"
   ]
  },
  {
   "cell_type": "code",
   "execution_count": 201,
   "metadata": {
    "collapsed": true
   },
   "outputs": [],
   "source": [
    "def create_pipe(column, nominal):\n",
    "    if nominal:\n",
    "        return Pipeline([\n",
    "            ('sel', ItemSelector(column)),\n",
    "            ('dict', ItemsToDictorizer(column)),\n",
    "            ('trans', DictVectorizer(sparse=False))\n",
    "        ])\n",
    "    return Pipeline([\n",
    "        ('sel', ItemSelector(column, True)),\n",
    "        ('trans', IdentityTransformer())\n",
    "    ])"
   ]
  },
  {
   "cell_type": "code",
   "execution_count": 211,
   "metadata": {
    "collapsed": false
   },
   "outputs": [],
   "source": [
    "transformers = ([(col, create_pipe(col, True)) for col in nominal_cols] + \n",
    "                [(col, create_pipe(col, False)) for col in ordinal_cols])"
   ]
  },
  {
   "cell_type": "code",
   "execution_count": 219,
   "metadata": {
    "collapsed": false
   },
   "outputs": [],
   "source": [
    "feat = FeatureUnion(transformer_list=transformers)\n",
    "cls = DecisionTreeClassifier(max_depth=5)\n",
    "pipe = Pipeline([\n",
    "    ('feat', feat),\n",
    "    ('cls', cls)\n",
    "])"
   ]
  },
  {
   "cell_type": "code",
   "execution_count": 220,
   "metadata": {
    "collapsed": false
   },
   "outputs": [
    {
     "data": {
      "text/plain": [
       "Pipeline(steps=[('feat', FeatureUnion(n_jobs=1,\n",
       "       transformer_list=[('mibol_tanul', Pipeline(steps=[('sel', ItemSelector(key='mibol_tanul', transpose=False)), ('dict', ItemsToDictorizer(key='mibol_tanul')), ('trans', DictVectorizer(dtype=<type 'numpy.float64'>, separator='=', sort=True,\n",
       "        sparse=F...min_samples_split=2, min_weight_fraction_leaf=0.0,\n",
       "            random_state=None, splitter='best'))])"
      ]
     },
     "execution_count": 220,
     "metadata": {},
     "output_type": "execute_result"
    }
   ],
   "source": [
    "pipe.fit(kerdo_iv, target)"
   ]
  },
  {
   "cell_type": "code",
   "execution_count": 246,
   "metadata": {
    "collapsed": true
   },
   "outputs": [],
   "source": [
    "def get_feature_names(index):\n",
    "    return feat.transformer_list[index][-1].steps[-1][-1].feature_names_"
   ]
  },
  {
   "cell_type": "code",
   "execution_count": 259,
   "metadata": {
    "collapsed": false
   },
   "outputs": [],
   "source": [
    "feature_names =  ([get_feature_names(index) for index in xrange(len(nominal_cols))]\n",
    "                  + [[col] for col in ordinal_cols])\n",
    "feature_names = [item for sublist in feature_names for item in sublist]"
   ]
  },
  {
   "cell_type": "code",
   "execution_count": 262,
   "metadata": {
    "collapsed": false
   },
   "outputs": [
    {
     "data": {
      "text/plain": [
       "True"
      ]
     },
     "execution_count": 262,
     "metadata": {},
     "output_type": "execute_result"
    }
   ],
   "source": [
    "dot_data = StringIO()\n",
    "export_graphviz(cls, feature_names=feature_names, out_file=dot_data) \n",
    "graph = pydot.graph_from_dot_data(dot_data.getvalue()) \n",
    "graph.write_pdf(\"tree.pdf\") "
   ]
  },
  {
   "cell_type": "markdown",
   "metadata": {},
   "source": [
    "---"
   ]
  }
 ],
 "metadata": {
  "kernelspec": {
   "display_name": "Python 2",
   "language": "python",
   "name": "python2"
  },
  "language_info": {
   "codemirror_mode": {
    "name": "ipython",
    "version": 2
   },
   "file_extension": ".py",
   "mimetype": "text/x-python",
   "name": "python",
   "nbconvert_exporter": "python",
   "pygments_lexer": "ipython2",
   "version": "2.7.10"
  }
 },
 "nbformat": 4,
 "nbformat_minor": 0
}
