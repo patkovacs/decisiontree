{
 "cells": [
  {
   "cell_type": "code",
   "execution_count": 263,
   "metadata": {
    "collapsed": false
   },
   "outputs": [],
   "source": [
    "%matplotlib inline\n",
    "import pandas as pd\n",
    "import numpy as np\n",
    "import matplotlib.pyplot\n",
    "import seaborn as sns\n",
    "import pydot\n",
    "\n",
    "from sklearn import preprocessing\n",
    "from sklearn.externals.six import StringIO  \n",
    "from sklearn.base import BaseEstimator, TransformerMixin\n",
    "from sklearn.pipeline import Pipeline, FeatureUnion\n",
    "from sklearn.feature_extraction import DictVectorizer\n",
    "from sklearn.tree import DecisionTreeClassifier, export_graphviz\n",
    "from sklearn.cross_validation import train_test_split"
   ]
  },
  {
   "cell_type": "code",
   "execution_count": 184,
   "metadata": {
    "collapsed": true
   },
   "outputs": [],
   "source": [
    "normalized_columns = [\n",
    "    'eloadas_latogatas',\n",
    "    'jegyzet_eloadason',\n",
    "    'gyakorlat_latogatas',\n",
    "    'mibol_tanul',\n",
    "    'egyedul_vagy_csoportosan',\n",
    "    'jegyzet_tanulashoz',\n",
    "    'ajanlott_olvasas',\n",
    "    'zh_keszules',\n",
    "    'vizsgara_keszules',\n",
    "    'tanulasi_napszak',\n",
    "    'szamonkeres_elott_tanulni',\n",
    "    'zenehalgatas',\n",
    "    'lakhely',\n",
    "    'megoldas_reprodukalasa',\n",
    "    'elert_kredit'\n",
    "]\n",
    "\n",
    "ordinal_transformations = {\n",
    "    u'Soha': 0,\n",
    "    u'Néha': 1,\n",
    "    u'Rendszeresen': 2,\n",
    "    u'Nem': 0,\n",
    "    u'Igen': 1,\n",
    "    u'0 - 10 kredit': 0,\n",
    "    u'11 - 15 kredit': 1, \n",
    "    u'16 - 20 kredit': 2,\n",
    "    u'21 - 25 kredit': 3, \n",
    "    u'26 - 30 kredit': 4, \n",
    "    u'31 - 37 kredit': 5,\n",
    "    u'38 vagy annál több kredit': 6\n",
    "}\n",
    "\n",
    "ordinal_cols = [\n",
    "    'eloadas_latogatas',\n",
    "    'jegyzet_eloadason',\n",
    "    'gyakorlat_latogatas',\n",
    "    'jegyzet_tanulashoz',\n",
    "    'ajanlott_olvasas',\n",
    "    'szamonkeres_elott_tanulni',\n",
    "    'zenehalgatas',\n",
    "    'megoldas_reprodukalasa',\n",
    "]\n",
    "nominal_cols = [\n",
    "    'mibol_tanul',\n",
    "    'egyedul_vagy_csoportosan',\n",
    "    'zh_keszules',\n",
    "    'vizsgara_keszules',\n",
    "    'tanulasi_napszak',\n",
    "    'lakhely',\n",
    "]\n",
    "target_col = ['elert_kredit']"
   ]
  },
  {
   "cell_type": "code",
   "execution_count": 352,
   "metadata": {
    "collapsed": false
   },
   "outputs": [],
   "source": [
    "kerdo_iv = pd.read_csv(\"kerdo_iv.csv\")\n",
    "kerdo_iv = kerdo_iv[kerdo_iv.columns[1:]]\n",
    "kerdo_iv.columns = normalized_columns"
   ]
  },
  {
   "cell_type": "code",
   "execution_count": 353,
   "metadata": {
    "collapsed": false
   },
   "outputs": [
    {
     "data": {
      "text/html": [
       "<div>\n",
       "<table border=\"1\" class=\"dataframe\">\n",
       "  <thead>\n",
       "    <tr style=\"text-align: right;\">\n",
       "      <th></th>\n",
       "      <th>eloadas_latogatas</th>\n",
       "      <th>jegyzet_eloadason</th>\n",
       "      <th>gyakorlat_latogatas</th>\n",
       "      <th>mibol_tanul</th>\n",
       "      <th>egyedul_vagy_csoportosan</th>\n",
       "      <th>jegyzet_tanulashoz</th>\n",
       "      <th>ajanlott_olvasas</th>\n",
       "      <th>zh_keszules</th>\n",
       "      <th>vizsgara_keszules</th>\n",
       "      <th>tanulasi_napszak</th>\n",
       "      <th>szamonkeres_elott_tanulni</th>\n",
       "      <th>zenehalgatas</th>\n",
       "      <th>lakhely</th>\n",
       "      <th>megoldas_reprodukalasa</th>\n",
       "      <th>elert_kredit</th>\n",
       "    </tr>\n",
       "  </thead>\n",
       "  <tbody>\n",
       "    <tr>\n",
       "      <th>0</th>\n",
       "      <td>Néha</td>\n",
       "      <td>Nem</td>\n",
       "      <td>Rendszeresen</td>\n",
       "      <td>Diasorok</td>\n",
       "      <td>Csoportosan</td>\n",
       "      <td>Néha</td>\n",
       "      <td>Nem</td>\n",
       "      <td>Pár nappal</td>\n",
       "      <td>1 héttel</td>\n",
       "      <td>Délután</td>\n",
       "      <td>Rendszeresen</td>\n",
       "      <td>Néha</td>\n",
       "      <td>Albérlet</td>\n",
       "      <td>Néha</td>\n",
       "      <td>26 - 30 kredit</td>\n",
       "    </tr>\n",
       "    <tr>\n",
       "      <th>1</th>\n",
       "      <td>Néha</td>\n",
       "      <td>Igen</td>\n",
       "      <td>Rendszeresen</td>\n",
       "      <td>Mások által készített jegyzetből</td>\n",
       "      <td>Egyedül</td>\n",
       "      <td>Néha</td>\n",
       "      <td>Igen</td>\n",
       "      <td>Pár nappal</td>\n",
       "      <td>1 héttel</td>\n",
       "      <td>Éjszaka / este</td>\n",
       "      <td>Rendszeresen</td>\n",
       "      <td>Rendszeresen</td>\n",
       "      <td>Kollégiumban</td>\n",
       "      <td>Rendszeresen</td>\n",
       "      <td>0 - 10 kredit</td>\n",
       "    </tr>\n",
       "    <tr>\n",
       "      <th>2</th>\n",
       "      <td>Néha</td>\n",
       "      <td>Nem</td>\n",
       "      <td>Rendszeresen</td>\n",
       "      <td>Diasorok</td>\n",
       "      <td>Egyedül</td>\n",
       "      <td>Néha</td>\n",
       "      <td>Nem</td>\n",
       "      <td>1 héttel</td>\n",
       "      <td>1 héttel</td>\n",
       "      <td>Délután</td>\n",
       "      <td>Rendszeresen</td>\n",
       "      <td>Néha</td>\n",
       "      <td>Albérlet</td>\n",
       "      <td>Soha</td>\n",
       "      <td>26 - 30 kredit</td>\n",
       "    </tr>\n",
       "    <tr>\n",
       "      <th>3</th>\n",
       "      <td>Néha</td>\n",
       "      <td>Nem</td>\n",
       "      <td>Néha</td>\n",
       "      <td>VikWikis anyag</td>\n",
       "      <td>Csoportosan</td>\n",
       "      <td>Néha</td>\n",
       "      <td>Nem</td>\n",
       "      <td>Pár nappal</td>\n",
       "      <td>1 héttel</td>\n",
       "      <td>Éjszaka / este</td>\n",
       "      <td>Rendszeresen</td>\n",
       "      <td>Rendszeresen</td>\n",
       "      <td>Kollégiumban</td>\n",
       "      <td>Néha</td>\n",
       "      <td>31 - 37 kredit</td>\n",
       "    </tr>\n",
       "    <tr>\n",
       "      <th>4</th>\n",
       "      <td>Néha</td>\n",
       "      <td>Nem</td>\n",
       "      <td>Néha</td>\n",
       "      <td>VikWikis anyag</td>\n",
       "      <td>Egyedül</td>\n",
       "      <td>Néha</td>\n",
       "      <td>Nem</td>\n",
       "      <td>1 héttel</td>\n",
       "      <td>1 héttel</td>\n",
       "      <td>Éjszaka / este</td>\n",
       "      <td>Rendszeresen</td>\n",
       "      <td>Rendszeresen</td>\n",
       "      <td>Otthon</td>\n",
       "      <td>Néha</td>\n",
       "      <td>26 - 30 kredit</td>\n",
       "    </tr>\n",
       "  </tbody>\n",
       "</table>\n",
       "</div>"
      ],
      "text/plain": [
       "  eloadas_latogatas jegyzet_eloadason gyakorlat_latogatas  \\\n",
       "0              Néha               Nem        Rendszeresen   \n",
       "1              Néha              Igen        Rendszeresen   \n",
       "2              Néha               Nem        Rendszeresen   \n",
       "3              Néha               Nem                Néha   \n",
       "4              Néha               Nem                Néha   \n",
       "\n",
       "                        mibol_tanul egyedul_vagy_csoportosan  \\\n",
       "0                          Diasorok              Csoportosan   \n",
       "1  Mások által készített jegyzetből                  Egyedül   \n",
       "2                          Diasorok                  Egyedül   \n",
       "3                    VikWikis anyag              Csoportosan   \n",
       "4                    VikWikis anyag                  Egyedül   \n",
       "\n",
       "  jegyzet_tanulashoz ajanlott_olvasas zh_keszules vizsgara_keszules  \\\n",
       "0               Néha              Nem  Pár nappal          1 héttel   \n",
       "1               Néha             Igen  Pár nappal          1 héttel   \n",
       "2               Néha              Nem    1 héttel          1 héttel   \n",
       "3               Néha              Nem  Pár nappal          1 héttel   \n",
       "4               Néha              Nem    1 héttel          1 héttel   \n",
       "\n",
       "  tanulasi_napszak szamonkeres_elott_tanulni  zenehalgatas       lakhely  \\\n",
       "0          Délután              Rendszeresen          Néha      Albérlet   \n",
       "1   Éjszaka / este              Rendszeresen  Rendszeresen  Kollégiumban   \n",
       "2          Délután              Rendszeresen          Néha      Albérlet   \n",
       "3   Éjszaka / este              Rendszeresen  Rendszeresen  Kollégiumban   \n",
       "4   Éjszaka / este              Rendszeresen  Rendszeresen        Otthon   \n",
       "\n",
       "  megoldas_reprodukalasa    elert_kredit  \n",
       "0                   Néha  26 - 30 kredit  \n",
       "1           Rendszeresen   0 - 10 kredit  \n",
       "2                   Soha  26 - 30 kredit  \n",
       "3                   Néha  31 - 37 kredit  \n",
       "4                   Néha  26 - 30 kredit  "
      ]
     },
     "execution_count": 353,
     "metadata": {},
     "output_type": "execute_result"
    }
   ],
   "source": [
    "kerdo_iv.head()"
   ]
  },
  {
   "cell_type": "code",
   "execution_count": 354,
   "metadata": {
    "collapsed": false
   },
   "outputs": [],
   "source": [
    "for column in ordinal_cols+target_col:\n",
    "    kerdo_iv[column] = kerdo_iv[column].apply(lambda x: transformations[x.decode('utf-8')])"
   ]
  },
  {
   "cell_type": "code",
   "execution_count": 358,
   "metadata": {
    "collapsed": false
   },
   "outputs": [
    {
     "data": {
      "text/html": [
       "<div>\n",
       "<table border=\"1\" class=\"dataframe\">\n",
       "  <thead>\n",
       "    <tr style=\"text-align: right;\">\n",
       "      <th></th>\n",
       "      <th>eloadas_latogatas</th>\n",
       "      <th>jegyzet_eloadason</th>\n",
       "      <th>gyakorlat_latogatas</th>\n",
       "      <th>mibol_tanul</th>\n",
       "      <th>egyedul_vagy_csoportosan</th>\n",
       "      <th>jegyzet_tanulashoz</th>\n",
       "      <th>ajanlott_olvasas</th>\n",
       "      <th>zh_keszules</th>\n",
       "      <th>vizsgara_keszules</th>\n",
       "      <th>tanulasi_napszak</th>\n",
       "      <th>szamonkeres_elott_tanulni</th>\n",
       "      <th>zenehalgatas</th>\n",
       "      <th>lakhely</th>\n",
       "      <th>megoldas_reprodukalasa</th>\n",
       "      <th>elert_kredit</th>\n",
       "    </tr>\n",
       "  </thead>\n",
       "  <tbody>\n",
       "    <tr>\n",
       "      <th>0</th>\n",
       "      <td>1</td>\n",
       "      <td>0</td>\n",
       "      <td>2</td>\n",
       "      <td>Diasorok</td>\n",
       "      <td>Csoportosan</td>\n",
       "      <td>1</td>\n",
       "      <td>0</td>\n",
       "      <td>Pár nappal</td>\n",
       "      <td>1 héttel</td>\n",
       "      <td>Délután</td>\n",
       "      <td>2</td>\n",
       "      <td>1</td>\n",
       "      <td>Albérlet</td>\n",
       "      <td>1</td>\n",
       "      <td>4</td>\n",
       "    </tr>\n",
       "    <tr>\n",
       "      <th>1</th>\n",
       "      <td>1</td>\n",
       "      <td>1</td>\n",
       "      <td>2</td>\n",
       "      <td>Mások által készített jegyzetből</td>\n",
       "      <td>Egyedül</td>\n",
       "      <td>1</td>\n",
       "      <td>1</td>\n",
       "      <td>Pár nappal</td>\n",
       "      <td>1 héttel</td>\n",
       "      <td>Éjszaka / este</td>\n",
       "      <td>2</td>\n",
       "      <td>2</td>\n",
       "      <td>Kollégiumban</td>\n",
       "      <td>2</td>\n",
       "      <td>0</td>\n",
       "    </tr>\n",
       "    <tr>\n",
       "      <th>2</th>\n",
       "      <td>1</td>\n",
       "      <td>0</td>\n",
       "      <td>2</td>\n",
       "      <td>Diasorok</td>\n",
       "      <td>Egyedül</td>\n",
       "      <td>1</td>\n",
       "      <td>0</td>\n",
       "      <td>1 héttel</td>\n",
       "      <td>1 héttel</td>\n",
       "      <td>Délután</td>\n",
       "      <td>2</td>\n",
       "      <td>1</td>\n",
       "      <td>Albérlet</td>\n",
       "      <td>0</td>\n",
       "      <td>4</td>\n",
       "    </tr>\n",
       "    <tr>\n",
       "      <th>3</th>\n",
       "      <td>1</td>\n",
       "      <td>0</td>\n",
       "      <td>1</td>\n",
       "      <td>VikWikis anyag</td>\n",
       "      <td>Csoportosan</td>\n",
       "      <td>1</td>\n",
       "      <td>0</td>\n",
       "      <td>Pár nappal</td>\n",
       "      <td>1 héttel</td>\n",
       "      <td>Éjszaka / este</td>\n",
       "      <td>2</td>\n",
       "      <td>2</td>\n",
       "      <td>Kollégiumban</td>\n",
       "      <td>1</td>\n",
       "      <td>5</td>\n",
       "    </tr>\n",
       "    <tr>\n",
       "      <th>4</th>\n",
       "      <td>1</td>\n",
       "      <td>0</td>\n",
       "      <td>1</td>\n",
       "      <td>VikWikis anyag</td>\n",
       "      <td>Egyedül</td>\n",
       "      <td>1</td>\n",
       "      <td>0</td>\n",
       "      <td>1 héttel</td>\n",
       "      <td>1 héttel</td>\n",
       "      <td>Éjszaka / este</td>\n",
       "      <td>2</td>\n",
       "      <td>2</td>\n",
       "      <td>Otthon</td>\n",
       "      <td>1</td>\n",
       "      <td>4</td>\n",
       "    </tr>\n",
       "    <tr>\n",
       "      <th>5</th>\n",
       "      <td>2</td>\n",
       "      <td>1</td>\n",
       "      <td>2</td>\n",
       "      <td>VikWikis anyag</td>\n",
       "      <td>Egyedül</td>\n",
       "      <td>1</td>\n",
       "      <td>1</td>\n",
       "      <td>1 héttel</td>\n",
       "      <td>1 héttel</td>\n",
       "      <td>Éjszaka / este</td>\n",
       "      <td>1</td>\n",
       "      <td>1</td>\n",
       "      <td>Albérlet</td>\n",
       "      <td>1</td>\n",
       "      <td>4</td>\n",
       "    </tr>\n",
       "    <tr>\n",
       "      <th>6</th>\n",
       "      <td>1</td>\n",
       "      <td>1</td>\n",
       "      <td>1</td>\n",
       "      <td>Diasorok</td>\n",
       "      <td>Egyedül</td>\n",
       "      <td>1</td>\n",
       "      <td>1</td>\n",
       "      <td>Pár nappal</td>\n",
       "      <td>Pár nappal</td>\n",
       "      <td>Éjszaka / este</td>\n",
       "      <td>2</td>\n",
       "      <td>1</td>\n",
       "      <td>Otthon</td>\n",
       "      <td>2</td>\n",
       "      <td>5</td>\n",
       "    </tr>\n",
       "    <tr>\n",
       "      <th>7</th>\n",
       "      <td>1</td>\n",
       "      <td>1</td>\n",
       "      <td>2</td>\n",
       "      <td>Előző évi zhk/vizsgák tanulmányozása és megoldása</td>\n",
       "      <td>Egyedül</td>\n",
       "      <td>1</td>\n",
       "      <td>0</td>\n",
       "      <td>Pár nappal</td>\n",
       "      <td>1 héttel</td>\n",
       "      <td>Éjszaka / este</td>\n",
       "      <td>2</td>\n",
       "      <td>2</td>\n",
       "      <td>Otthon</td>\n",
       "      <td>2</td>\n",
       "      <td>4</td>\n",
       "    </tr>\n",
       "    <tr>\n",
       "      <th>8</th>\n",
       "      <td>2</td>\n",
       "      <td>1</td>\n",
       "      <td>2</td>\n",
       "      <td>Előző évi zhk/vizsgák tanulmányozása és megoldása</td>\n",
       "      <td>Csoportosan</td>\n",
       "      <td>1</td>\n",
       "      <td>0</td>\n",
       "      <td>1 héttel</td>\n",
       "      <td>1 héttel</td>\n",
       "      <td>Délután</td>\n",
       "      <td>2</td>\n",
       "      <td>1</td>\n",
       "      <td>Albérlet</td>\n",
       "      <td>2</td>\n",
       "      <td>2</td>\n",
       "    </tr>\n",
       "    <tr>\n",
       "      <th>9</th>\n",
       "      <td>2</td>\n",
       "      <td>1</td>\n",
       "      <td>2</td>\n",
       "      <td>Előző évi zhk/vizsgák tanulmányozása és megoldása</td>\n",
       "      <td>Csoportosan</td>\n",
       "      <td>2</td>\n",
       "      <td>1</td>\n",
       "      <td>1 héttel</td>\n",
       "      <td>1 héttel</td>\n",
       "      <td>Éjszaka / este</td>\n",
       "      <td>2</td>\n",
       "      <td>1</td>\n",
       "      <td>Albérlet</td>\n",
       "      <td>1</td>\n",
       "      <td>5</td>\n",
       "    </tr>\n",
       "  </tbody>\n",
       "</table>\n",
       "</div>"
      ],
      "text/plain": [
       "   eloadas_latogatas  jegyzet_eloadason  gyakorlat_latogatas  \\\n",
       "0                  1                  0                    2   \n",
       "1                  1                  1                    2   \n",
       "2                  1                  0                    2   \n",
       "3                  1                  0                    1   \n",
       "4                  1                  0                    1   \n",
       "5                  2                  1                    2   \n",
       "6                  1                  1                    1   \n",
       "7                  1                  1                    2   \n",
       "8                  2                  1                    2   \n",
       "9                  2                  1                    2   \n",
       "\n",
       "                                         mibol_tanul egyedul_vagy_csoportosan  \\\n",
       "0                                           Diasorok              Csoportosan   \n",
       "1                   Mások által készített jegyzetből                  Egyedül   \n",
       "2                                           Diasorok                  Egyedül   \n",
       "3                                     VikWikis anyag              Csoportosan   \n",
       "4                                     VikWikis anyag                  Egyedül   \n",
       "5                                     VikWikis anyag                  Egyedül   \n",
       "6                                           Diasorok                  Egyedül   \n",
       "7  Előző évi zhk/vizsgák tanulmányozása és megoldása                  Egyedül   \n",
       "8  Előző évi zhk/vizsgák tanulmányozása és megoldása              Csoportosan   \n",
       "9  Előző évi zhk/vizsgák tanulmányozása és megoldása              Csoportosan   \n",
       "\n",
       "   jegyzet_tanulashoz  ajanlott_olvasas zh_keszules vizsgara_keszules  \\\n",
       "0                   1                 0  Pár nappal          1 héttel   \n",
       "1                   1                 1  Pár nappal          1 héttel   \n",
       "2                   1                 0    1 héttel          1 héttel   \n",
       "3                   1                 0  Pár nappal          1 héttel   \n",
       "4                   1                 0    1 héttel          1 héttel   \n",
       "5                   1                 1    1 héttel          1 héttel   \n",
       "6                   1                 1  Pár nappal        Pár nappal   \n",
       "7                   1                 0  Pár nappal          1 héttel   \n",
       "8                   1                 0    1 héttel          1 héttel   \n",
       "9                   2                 1    1 héttel          1 héttel   \n",
       "\n",
       "  tanulasi_napszak  szamonkeres_elott_tanulni  zenehalgatas       lakhely  \\\n",
       "0          Délután                          2             1      Albérlet   \n",
       "1   Éjszaka / este                          2             2  Kollégiumban   \n",
       "2          Délután                          2             1      Albérlet   \n",
       "3   Éjszaka / este                          2             2  Kollégiumban   \n",
       "4   Éjszaka / este                          2             2        Otthon   \n",
       "5   Éjszaka / este                          1             1      Albérlet   \n",
       "6   Éjszaka / este                          2             1        Otthon   \n",
       "7   Éjszaka / este                          2             2        Otthon   \n",
       "8          Délután                          2             1      Albérlet   \n",
       "9   Éjszaka / este                          2             1      Albérlet   \n",
       "\n",
       "   megoldas_reprodukalasa  elert_kredit  \n",
       "0                       1             4  \n",
       "1                       2             0  \n",
       "2                       0             4  \n",
       "3                       1             5  \n",
       "4                       1             4  \n",
       "5                       1             4  \n",
       "6                       2             5  \n",
       "7                       2             4  \n",
       "8                       2             2  \n",
       "9                       1             5  "
      ]
     },
     "execution_count": 358,
     "metadata": {},
     "output_type": "execute_result"
    }
   ],
   "source": [
    "kerdo_iv.head(10)"
   ]
  },
  {
   "cell_type": "markdown",
   "metadata": {},
   "source": [
    "# Nominálisok átírása"
   ]
  },
  {
   "cell_type": "code",
   "execution_count": 199,
   "metadata": {
    "collapsed": false
   },
   "outputs": [],
   "source": [
    "class ItemSelector(BaseEstimator, TransformerMixin):\n",
    "\n",
    "    def __init__(self, key, transpose=False):\n",
    "        self.key = key\n",
    "        self.transpose = transpose\n",
    "\n",
    "    def fit(self, X, y=None):\n",
    "        return self\n",
    "\n",
    "    def transform(self, X, y=None):\n",
    "        X = X[self.key].values\n",
    "        if self.transpose:\n",
    "            return X[:, np.newaxis]\n",
    "        return X\n",
    "    \n",
    "    \n",
    "class ItemsToDictorizer(BaseEstimator, TransformerMixin):\n",
    "    def __init__(self, key):\n",
    "        self.key = key\n",
    "\n",
    "    def fit(self, X, y=None):\n",
    "        return self\n",
    "\n",
    "    def transform(self, X, y=None):\n",
    "        return [{self.key: val} for val in X]\n",
    "\n",
    "    \n",
    "class IdentityTransformer(BaseEstimator, TransformerMixin):\n",
    "\n",
    "    def fit(self, X, y=None):\n",
    "        return self\n",
    "\n",
    "    def transform(self, X, y=None):\n",
    "        return X"
   ]
  },
  {
   "cell_type": "markdown",
   "metadata": {},
   "source": [
    "# Modell betanítása és a Data és Target adat létrehozása"
   ]
  },
  {
   "cell_type": "code",
   "execution_count": 200,
   "metadata": {
    "collapsed": false
   },
   "outputs": [
    {
     "data": {
      "text/plain": [
       "(141, 1)"
      ]
     },
     "execution_count": 200,
     "metadata": {},
     "output_type": "execute_result"
    }
   ],
   "source": [
    "target = kerdo_iv[target_col].values\n",
    "target.shape"
   ]
  },
  {
   "cell_type": "code",
   "execution_count": 201,
   "metadata": {
    "collapsed": true
   },
   "outputs": [],
   "source": [
    "def create_pipe(column, nominal):\n",
    "    if nominal:\n",
    "        return Pipeline([\n",
    "            ('sel', ItemSelector(column)),\n",
    "            ('dict', ItemsToDictorizer(column)),\n",
    "            ('trans', DictVectorizer(sparse=False))\n",
    "        ])\n",
    "    return Pipeline([\n",
    "        ('sel', ItemSelector(column, True)),\n",
    "        ('trans', IdentityTransformer())\n",
    "    ])"
   ]
  },
  {
   "cell_type": "code",
   "execution_count": 211,
   "metadata": {
    "collapsed": false
   },
   "outputs": [],
   "source": [
    "transformers = ([(col, create_pipe(col, True)) for col in nominal_cols] + \n",
    "                [(col, create_pipe(col, False)) for col in ordinal_cols])"
   ]
  },
  {
   "cell_type": "code",
   "execution_count": 348,
   "metadata": {
    "collapsed": false
   },
   "outputs": [],
   "source": [
    "feat = FeatureUnion(transformer_list=transformers)\n",
    "cls = DecisionTreeClassifier(max_depth=8)\n",
    "pipe = Pipeline([\n",
    "    ('feat', feat),\n",
    "    ('cls', cls)\n",
    "])"
   ]
  },
  {
   "cell_type": "code",
   "execution_count": 359,
   "metadata": {
    "collapsed": false
   },
   "outputs": [
    {
     "data": {
      "text/plain": [
       "Pipeline(steps=[('feat', FeatureUnion(n_jobs=1,\n",
       "       transformer_list=[('mibol_tanul', Pipeline(steps=[('sel', ItemSelector(key='mibol_tanul', transpose=False)), ('dict', ItemsToDictorizer(key='mibol_tanul')), ('trans', DictVectorizer(dtype=<type 'numpy.float64'>, separator='=', sort=True,\n",
       "        sparse=F...min_samples_split=2, min_weight_fraction_leaf=0.0,\n",
       "            random_state=None, splitter='best'))])"
      ]
     },
     "execution_count": 359,
     "metadata": {},
     "output_type": "execute_result"
    }
   ],
   "source": [
    "pipe.fit(kerdo_iv, target)"
   ]
  },
  {
   "cell_type": "markdown",
   "metadata": {},
   "source": [
    "# Döntési fa létrehozása és kimentése pdf-be"
   ]
  },
  {
   "cell_type": "code",
   "execution_count": 246,
   "metadata": {
    "collapsed": true
   },
   "outputs": [],
   "source": [
    "def get_feature_names(index):\n",
    "    return feat.transformer_list[index][-1].steps[-1][-1].feature_names_"
   ]
  },
  {
   "cell_type": "code",
   "execution_count": 259,
   "metadata": {
    "collapsed": false
   },
   "outputs": [],
   "source": [
    "feature_names =  ([get_feature_names(index) for index in xrange(len(nominal_cols))]\n",
    "                  + [[col] for col in ordinal_cols])\n",
    "feature_names = [item for sublist in feature_names for item in sublist]"
   ]
  },
  {
   "cell_type": "code",
   "execution_count": 262,
   "metadata": {
    "collapsed": false
   },
   "outputs": [
    {
     "data": {
      "text/plain": [
       "True"
      ]
     },
     "execution_count": 262,
     "metadata": {},
     "output_type": "execute_result"
    }
   ],
   "source": [
    "dot_data = StringIO()\n",
    "export_graphviz(cls, feature_names=feature_names, out_file=dot_data) \n",
    "graph = pydot.graph_from_dot_data(dot_data.getvalue()) \n",
    "graph.write_pdf(\"tree.pdf\") "
   ]
  },
  {
   "cell_type": "markdown",
   "metadata": {},
   "source": [
    "---"
   ]
  },
  {
   "cell_type": "markdown",
   "metadata": {},
   "source": [
    "# Train és Test adat létrehozása"
   ]
  },
  {
   "cell_type": "code",
   "execution_count": null,
   "metadata": {
    "collapsed": true
   },
   "outputs": [],
   "source": [
    "X_train, X_test, y_train, y_test = train_test_split(kerdo_iv, target, random_state=42,train_size = 0.7)"
   ]
  },
  {
   "cell_type": "code",
   "execution_count": null,
   "metadata": {
    "collapsed": true
   },
   "outputs": [],
   "source": [
    "pipe.fit(X_train,y_train)"
   ]
  },
  {
   "cell_type": "code",
   "execution_count": null,
   "metadata": {
    "collapsed": true
   },
   "outputs": [],
   "source": [
    "pipe.score(X_test,y_test)"
   ]
  }
 ],
 "metadata": {
  "kernelspec": {
   "display_name": "Python 2",
   "language": "python",
   "name": "python2"
  },
  "language_info": {
   "codemirror_mode": {
    "name": "ipython",
    "version": 2
   },
   "file_extension": ".py",
   "mimetype": "text/x-python",
   "name": "python",
   "nbconvert_exporter": "python",
   "pygments_lexer": "ipython2",
   "version": "2.7.10"
  }
 },
 "nbformat": 4,
 "nbformat_minor": 0
}
