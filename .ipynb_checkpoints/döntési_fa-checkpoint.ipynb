{
 "cells": [
  {
   "cell_type": "code",
   "execution_count": 1,
   "metadata": {
    "collapsed": false
   },
   "outputs": [],
   "source": [
    "import pandas as pd\n",
    "import numpy as np\n",
    "import matplotlib.pyplot\n",
    "from sklearn import tree\n",
    "from sklearn import preprocessing\n",
    "from IPython.display import Image\n",
    "from sklearn.externals.six import StringIO  \n",
    "import pydot "
   ]
  },
  {
   "cell_type": "code",
   "execution_count": 2,
   "metadata": {
    "collapsed": false
   },
   "outputs": [],
   "source": [
    "kerdo_iv = pd.read_csv(\"kerdo_iv.csv\")"
   ]
  },
  {
   "cell_type": "code",
   "execution_count": 3,
   "metadata": {
    "collapsed": false
   },
   "outputs": [
    {
     "data": {
      "text/html": [
       "<div>\n",
       "<table border=\"1\" class=\"dataframe\">\n",
       "  <thead>\n",
       "    <tr style=\"text-align: right;\">\n",
       "      <th></th>\n",
       "      <th>Időbélyeg</th>\n",
       "      <th>1. Mennyire rendszeresen látogatod az előadásokat?</th>\n",
       "      <th>2. Készítesz jegyzetet az előadásokon?</th>\n",
       "      <th>3. Bejársz jelenléti nélküli gyakorlatokra?</th>\n",
       "      <th>4. Miből szoktál tanulni? (leginkább)</th>\n",
       "      <th>5. Egyedül vagy csoportosan, másokkal együtt tanulsz inkább?</th>\n",
       "      <th>6. Tanulás során készítesz saját jegyzetet?</th>\n",
       "      <th>7. Ha van ajánlott irodalom a tárgyhoz akkor bele szoktál olvasni?</th>\n",
       "      <th>8. Egy évközbeni zhra mennyivel hamarabb kezdesz el készülni?</th>\n",
       "      <th>9. Vizsgára mennyivel hamarabb kezdesz el tanulni?</th>\n",
       "      <th>10. A nap folyamán mikor tudsz a legeredményesebben tanulni?</th>\n",
       "      <th>11. Számonkérés előtt pár órával, az utolsó pillanatokban szoktál e még tanulni?</th>\n",
       "      <th>12. Hallgatsz zenét tanultás közben?</th>\n",
       "      <th>13. Hol laksz?</th>\n",
       "      <th>14. Reprodukálod önállóan egy gyakorlati feladat megoldását, a megoldókulcsot nem nézve?</th>\n",
       "      <th>Hány kreditet szereztél előző félévben?</th>\n",
       "    </tr>\n",
       "  </thead>\n",
       "  <tbody>\n",
       "    <tr>\n",
       "      <th>0</th>\n",
       "      <td>2015/12/05 6:49:21 du. CET</td>\n",
       "      <td>Néha</td>\n",
       "      <td>Nem</td>\n",
       "      <td>Rendszeresen</td>\n",
       "      <td>Diasorok</td>\n",
       "      <td>Csoportosan</td>\n",
       "      <td>Néha</td>\n",
       "      <td>Nem</td>\n",
       "      <td>Pár nappal</td>\n",
       "      <td>1 héttel</td>\n",
       "      <td>Délután</td>\n",
       "      <td>Rendszeresen</td>\n",
       "      <td>Néha</td>\n",
       "      <td>Albérlet</td>\n",
       "      <td>Néha</td>\n",
       "      <td>26 - 30 kredit</td>\n",
       "    </tr>\n",
       "    <tr>\n",
       "      <th>1</th>\n",
       "      <td>2015/12/05 6:49:21 du. CET</td>\n",
       "      <td>Néha</td>\n",
       "      <td>Igen</td>\n",
       "      <td>Rendszeresen</td>\n",
       "      <td>Mások által készített jegyzetből</td>\n",
       "      <td>Egyedül</td>\n",
       "      <td>Néha</td>\n",
       "      <td>Igen</td>\n",
       "      <td>Pár nappal</td>\n",
       "      <td>1 héttel</td>\n",
       "      <td>Éjszaka / este</td>\n",
       "      <td>Rendszeresen</td>\n",
       "      <td>Rendszeresen</td>\n",
       "      <td>Kollégiumban</td>\n",
       "      <td>Rendszeresen</td>\n",
       "      <td>0 - 10 kredit</td>\n",
       "    </tr>\n",
       "    <tr>\n",
       "      <th>2</th>\n",
       "      <td>2015/12/05 6:49:57 du. CET</td>\n",
       "      <td>Néha</td>\n",
       "      <td>Nem</td>\n",
       "      <td>Rendszeresen</td>\n",
       "      <td>Diasorok</td>\n",
       "      <td>Egyedül</td>\n",
       "      <td>Néha</td>\n",
       "      <td>Nem</td>\n",
       "      <td>1 héttel</td>\n",
       "      <td>1 héttel</td>\n",
       "      <td>Délután</td>\n",
       "      <td>Rendszeresen</td>\n",
       "      <td>Néha</td>\n",
       "      <td>Albérlet</td>\n",
       "      <td>Soha</td>\n",
       "      <td>26 - 30 kredit</td>\n",
       "    </tr>\n",
       "    <tr>\n",
       "      <th>3</th>\n",
       "      <td>2015/12/05 6:50:03 du. CET</td>\n",
       "      <td>Néha</td>\n",
       "      <td>Nem</td>\n",
       "      <td>Néha</td>\n",
       "      <td>VikWikis anyag</td>\n",
       "      <td>Csoportosan</td>\n",
       "      <td>Néha</td>\n",
       "      <td>Nem</td>\n",
       "      <td>Pár nappal</td>\n",
       "      <td>1 héttel</td>\n",
       "      <td>Éjszaka / este</td>\n",
       "      <td>Rendszeresen</td>\n",
       "      <td>Rendszeresen</td>\n",
       "      <td>Kollégiumban</td>\n",
       "      <td>Néha</td>\n",
       "      <td>31 - 37 kredit</td>\n",
       "    </tr>\n",
       "    <tr>\n",
       "      <th>4</th>\n",
       "      <td>2015/12/05 6:50:35 du. CET</td>\n",
       "      <td>Néha</td>\n",
       "      <td>Nem</td>\n",
       "      <td>Néha</td>\n",
       "      <td>VikWikis anyag</td>\n",
       "      <td>Egyedül</td>\n",
       "      <td>Néha</td>\n",
       "      <td>Nem</td>\n",
       "      <td>1 héttel</td>\n",
       "      <td>1 héttel</td>\n",
       "      <td>Éjszaka / este</td>\n",
       "      <td>Rendszeresen</td>\n",
       "      <td>Rendszeresen</td>\n",
       "      <td>Otthon</td>\n",
       "      <td>Néha</td>\n",
       "      <td>26 - 30 kredit</td>\n",
       "    </tr>\n",
       "  </tbody>\n",
       "</table>\n",
       "</div>"
      ],
      "text/plain": [
       "                    Időbélyeg  \\\n",
       "0  2015/12/05 6:49:21 du. CET   \n",
       "1  2015/12/05 6:49:21 du. CET   \n",
       "2  2015/12/05 6:49:57 du. CET   \n",
       "3  2015/12/05 6:50:03 du. CET   \n",
       "4  2015/12/05 6:50:35 du. CET   \n",
       "\n",
       "  1. Mennyire rendszeresen látogatod az előadásokat?  \\\n",
       "0                                               Néha   \n",
       "1                                               Néha   \n",
       "2                                               Néha   \n",
       "3                                               Néha   \n",
       "4                                               Néha   \n",
       "\n",
       "  2. Készítesz jegyzetet az előadásokon?  \\\n",
       "0                                    Nem   \n",
       "1                                   Igen   \n",
       "2                                    Nem   \n",
       "3                                    Nem   \n",
       "4                                    Nem   \n",
       "\n",
       "  3. Bejársz jelenléti nélküli gyakorlatokra?  \\\n",
       "0                                Rendszeresen   \n",
       "1                                Rendszeresen   \n",
       "2                                Rendszeresen   \n",
       "3                                        Néha   \n",
       "4                                        Néha   \n",
       "\n",
       "  4. Miből szoktál tanulni? (leginkább)  \\\n",
       "0                              Diasorok   \n",
       "1      Mások által készített jegyzetből   \n",
       "2                              Diasorok   \n",
       "3                        VikWikis anyag   \n",
       "4                        VikWikis anyag   \n",
       "\n",
       "  5. Egyedül vagy csoportosan, másokkal együtt tanulsz inkább?  \\\n",
       "0                                        Csoportosan             \n",
       "1                                            Egyedül             \n",
       "2                                            Egyedül             \n",
       "3                                        Csoportosan             \n",
       "4                                            Egyedül             \n",
       "\n",
       "  6. Tanulás során készítesz saját jegyzetet?  \\\n",
       "0                                        Néha   \n",
       "1                                        Néha   \n",
       "2                                        Néha   \n",
       "3                                        Néha   \n",
       "4                                        Néha   \n",
       "\n",
       "  7. Ha van ajánlott irodalom a tárgyhoz akkor bele szoktál olvasni?  \\\n",
       "0                                                Nem                   \n",
       "1                                               Igen                   \n",
       "2                                                Nem                   \n",
       "3                                                Nem                   \n",
       "4                                                Nem                   \n",
       "\n",
       "  8. Egy évközbeni zhra mennyivel hamarabb kezdesz el készülni?  \\\n",
       "0                                         Pár nappal              \n",
       "1                                         Pár nappal              \n",
       "2                                           1 héttel              \n",
       "3                                         Pár nappal              \n",
       "4                                           1 héttel              \n",
       "\n",
       "  9. Vizsgára mennyivel hamarabb kezdesz el tanulni?  \\\n",
       "0                                           1 héttel   \n",
       "1                                           1 héttel   \n",
       "2                                           1 héttel   \n",
       "3                                           1 héttel   \n",
       "4                                           1 héttel   \n",
       "\n",
       "  10. A nap folyamán mikor tudsz a legeredményesebben tanulni?  \\\n",
       "0                                            Délután             \n",
       "1                                     Éjszaka / este             \n",
       "2                                            Délután             \n",
       "3                                     Éjszaka / este             \n",
       "4                                     Éjszaka / este             \n",
       "\n",
       "  11. Számonkérés előtt pár órával, az utolsó pillanatokban szoktál e még tanulni?  \\\n",
       "0                                       Rendszeresen                                 \n",
       "1                                       Rendszeresen                                 \n",
       "2                                       Rendszeresen                                 \n",
       "3                                       Rendszeresen                                 \n",
       "4                                       Rendszeresen                                 \n",
       "\n",
       "  12. Hallgatsz zenét tanultás közben? 13. Hol laksz?  \\\n",
       "0                                 Néha       Albérlet   \n",
       "1                         Rendszeresen   Kollégiumban   \n",
       "2                                 Néha       Albérlet   \n",
       "3                         Rendszeresen   Kollégiumban   \n",
       "4                         Rendszeresen         Otthon   \n",
       "\n",
       "  14. Reprodukálod önállóan egy gyakorlati feladat megoldását, a megoldókulcsot nem nézve?  \\\n",
       "0                                               Néha                                         \n",
       "1                                       Rendszeresen                                         \n",
       "2                                               Soha                                         \n",
       "3                                               Néha                                         \n",
       "4                                               Néha                                         \n",
       "\n",
       "  Hány kreditet szereztél előző félévben?  \n",
       "0                          26 - 30 kredit  \n",
       "1                           0 - 10 kredit  \n",
       "2                          26 - 30 kredit  \n",
       "3                          31 - 37 kredit  \n",
       "4                          26 - 30 kredit  "
      ]
     },
     "execution_count": 3,
     "metadata": {},
     "output_type": "execute_result"
    }
   ],
   "source": [
    "kerdo_iv.head(5)"
   ]
  },
  {
   "cell_type": "code",
   "execution_count": 4,
   "metadata": {
    "collapsed": true
   },
   "outputs": [],
   "source": [
    "features = kerdo_iv"
   ]
  },
  {
   "cell_type": "markdown",
   "metadata": {},
   "source": [
    "# soha/néha/rendszeresen értékek átírása 0/1/2 -re"
   ]
  },
  {
   "cell_type": "code",
   "execution_count": 5,
   "metadata": {
    "collapsed": false
   },
   "outputs": [],
   "source": [
    "soha_indexes = features == \"Soha\""
   ]
  },
  {
   "cell_type": "code",
   "execution_count": 6,
   "metadata": {
    "collapsed": false
   },
   "outputs": [],
   "source": [
    "features[soha_indexes] = 0"
   ]
  },
  {
   "cell_type": "code",
   "execution_count": 7,
   "metadata": {
    "collapsed": true
   },
   "outputs": [],
   "source": [
    "neha_indexes = features == \"Néha\""
   ]
  },
  {
   "cell_type": "code",
   "execution_count": 8,
   "metadata": {
    "collapsed": false
   },
   "outputs": [],
   "source": [
    "features[neha_indexes] = 1"
   ]
  },
  {
   "cell_type": "code",
   "execution_count": 9,
   "metadata": {
    "collapsed": true
   },
   "outputs": [],
   "source": [
    "rendszeresen_indexes = features == \"Rendszeresen\""
   ]
  },
  {
   "cell_type": "code",
   "execution_count": 10,
   "metadata": {
    "collapsed": true
   },
   "outputs": [],
   "source": [
    "features[rendszeresen_indexes] = 2"
   ]
  },
  {
   "cell_type": "markdown",
   "metadata": {},
   "source": [
    "# igen/nem átírása 1/0 értékre"
   ]
  },
  {
   "cell_type": "code",
   "execution_count": 11,
   "metadata": {
    "collapsed": true
   },
   "outputs": [],
   "source": [
    "nem_indexes = features == \"Nem\""
   ]
  },
  {
   "cell_type": "code",
   "execution_count": 12,
   "metadata": {
    "collapsed": true
   },
   "outputs": [],
   "source": [
    "igen_indexes = features == \"Igen\""
   ]
  },
  {
   "cell_type": "code",
   "execution_count": 13,
   "metadata": {
    "collapsed": true
   },
   "outputs": [],
   "source": [
    "features[nem_indexes] = 0"
   ]
  },
  {
   "cell_type": "code",
   "execution_count": 14,
   "metadata": {
    "collapsed": true
   },
   "outputs": [],
   "source": [
    "features[igen_indexes] = 1"
   ]
  },
  {
   "cell_type": "markdown",
   "metadata": {},
   "source": [
    "# Felkészülési idő paramtetrizálása"
   ]
  },
  {
   "cell_type": "code",
   "execution_count": 15,
   "metadata": {
    "collapsed": false
   },
   "outputs": [],
   "source": [
    "elotte_valo_este_indexes = features == \"Előtte való este\""
   ]
  },
  {
   "cell_type": "code",
   "execution_count": 16,
   "metadata": {
    "collapsed": true
   },
   "outputs": [],
   "source": [
    "features[elotte_valo_este_indexes] = 0"
   ]
  },
  {
   "cell_type": "code",
   "execution_count": 17,
   "metadata": {
    "collapsed": true
   },
   "outputs": [],
   "source": [
    "par_nappal_indexes = features == \"Pár nappal\""
   ]
  },
  {
   "cell_type": "code",
   "execution_count": 18,
   "metadata": {
    "collapsed": true
   },
   "outputs": [],
   "source": [
    "features[par_nappal_indexes] = 1"
   ]
  },
  {
   "cell_type": "code",
   "execution_count": 19,
   "metadata": {
    "collapsed": true
   },
   "outputs": [],
   "source": [
    "egy_hettel_indexes = features == \"1 héttel\""
   ]
  },
  {
   "cell_type": "code",
   "execution_count": 20,
   "metadata": {
    "collapsed": true
   },
   "outputs": [],
   "source": [
    "features[egy_hettel_indexes] = 2"
   ]
  },
  {
   "cell_type": "code",
   "execution_count": 21,
   "metadata": {
    "collapsed": true
   },
   "outputs": [],
   "source": [
    "folyamatosan_evkozben_indexes = features == \"Folyamatosan évközben\""
   ]
  },
  {
   "cell_type": "code",
   "execution_count": 22,
   "metadata": {
    "collapsed": true
   },
   "outputs": [],
   "source": [
    "features[folyamatosan_evkozben_indexes] = 3"
   ]
  },
  {
   "cell_type": "code",
   "execution_count": 23,
   "metadata": {
    "collapsed": true
   },
   "outputs": [],
   "source": [
    "elso_kredit_interval = features == \"0 - 10 kredit\""
   ]
  },
  {
   "cell_type": "code",
   "execution_count": 24,
   "metadata": {
    "collapsed": true
   },
   "outputs": [],
   "source": [
    "features[elso_kredit_interval] = 1"
   ]
  },
  {
   "cell_type": "code",
   "execution_count": 25,
   "metadata": {
    "collapsed": true
   },
   "outputs": [],
   "source": [
    "masodik_kredit_interval = features == \"11 - 15 kredit\""
   ]
  },
  {
   "cell_type": "code",
   "execution_count": 26,
   "metadata": {
    "collapsed": true
   },
   "outputs": [],
   "source": [
    "features[masodik_kredit_interval] = 2"
   ]
  },
  {
   "cell_type": "code",
   "execution_count": 27,
   "metadata": {
    "collapsed": true
   },
   "outputs": [],
   "source": [
    "harmadik_kredit_interval = features == \"16 - 20 kredit\""
   ]
  },
  {
   "cell_type": "code",
   "execution_count": 28,
   "metadata": {
    "collapsed": true
   },
   "outputs": [],
   "source": [
    "features[harmadik_kredit_interval] = 3"
   ]
  },
  {
   "cell_type": "code",
   "execution_count": 29,
   "metadata": {
    "collapsed": true
   },
   "outputs": [],
   "source": [
    "negyedik_kredit_interval = features == \"21 - 25 kredit\""
   ]
  },
  {
   "cell_type": "code",
   "execution_count": 30,
   "metadata": {
    "collapsed": true
   },
   "outputs": [],
   "source": [
    "features[negyedik_kredit_interval] = 4"
   ]
  },
  {
   "cell_type": "code",
   "execution_count": 31,
   "metadata": {
    "collapsed": true
   },
   "outputs": [],
   "source": [
    "otodik_kredit_interval = features == \"26 - 30 kredit\""
   ]
  },
  {
   "cell_type": "code",
   "execution_count": 32,
   "metadata": {
    "collapsed": true
   },
   "outputs": [],
   "source": [
    "features[otodik_kredit_interval] = 5"
   ]
  },
  {
   "cell_type": "code",
   "execution_count": 33,
   "metadata": {
    "collapsed": true
   },
   "outputs": [],
   "source": [
    "hatodik_kredit_interval = features == \"31 - 37 kredit\""
   ]
  },
  {
   "cell_type": "code",
   "execution_count": 34,
   "metadata": {
    "collapsed": true
   },
   "outputs": [],
   "source": [
    "features[hatodik_kredit_interval] = 6"
   ]
  },
  {
   "cell_type": "code",
   "execution_count": 35,
   "metadata": {
    "collapsed": true
   },
   "outputs": [],
   "source": [
    "hetedik_kredit_interval = features == \"38 vagy annál több kredit\""
   ]
  },
  {
   "cell_type": "code",
   "execution_count": 36,
   "metadata": {
    "collapsed": true
   },
   "outputs": [],
   "source": [
    "features[hetedik_kredit_interval] = 7"
   ]
  },
  {
   "cell_type": "markdown",
   "metadata": {},
   "source": [
    "# 4. , 5. , 10. , 13. oszlopok értékeihez konstans értékek rendelése"
   ]
  },
  {
   "cell_type": "code",
   "execution_count": 37,
   "metadata": {
    "collapsed": true
   },
   "outputs": [],
   "source": [
    "learning_sources = list(features[\"4. Miből szoktál tanulni? (leginkább)\"].unique())\n",
    "social_sources = list(features[\"5. Egyedül vagy csoportosan, másokkal együtt tanulsz inkább?\"].unique())\n",
    "daytime_sources = list(features[\"10. A nap folyamán mikor tudsz a legeredményesebben tanulni?\"].unique())\n",
    "place_sources = list(features[\"13. Hol laksz?\"].unique())"
   ]
  },
  {
   "cell_type": "code",
   "execution_count": 38,
   "metadata": {
    "collapsed": true
   },
   "outputs": [],
   "source": [
    "def change_to_values(line):\n",
    "    line[4] = learning_sources.index(line[4])\n",
    "    line[5] = social_sources.index(line[5])\n",
    "    line[10] = daytime_sources.index(line[10])\n",
    "    line[13] = place_sources.index(line[13])\n",
    "    \n",
    "    return line"
   ]
  },
  {
   "cell_type": "code",
   "execution_count": 39,
   "metadata": {
    "collapsed": false
   },
   "outputs": [],
   "source": [
    "features_with_numbers = features.apply(change_to_values,axis=1)"
   ]
  },
  {
   "cell_type": "code",
   "execution_count": 40,
   "metadata": {
    "collapsed": false
   },
   "outputs": [
    {
     "data": {
      "text/html": [
       "<div>\n",
       "<table border=\"1\" class=\"dataframe\">\n",
       "  <thead>\n",
       "    <tr style=\"text-align: right;\">\n",
       "      <th></th>\n",
       "      <th>Időbélyeg</th>\n",
       "      <th>1. Mennyire rendszeresen látogatod az előadásokat?</th>\n",
       "      <th>2. Készítesz jegyzetet az előadásokon?</th>\n",
       "      <th>3. Bejársz jelenléti nélküli gyakorlatokra?</th>\n",
       "      <th>4. Miből szoktál tanulni? (leginkább)</th>\n",
       "      <th>5. Egyedül vagy csoportosan, másokkal együtt tanulsz inkább?</th>\n",
       "      <th>6. Tanulás során készítesz saját jegyzetet?</th>\n",
       "      <th>7. Ha van ajánlott irodalom a tárgyhoz akkor bele szoktál olvasni?</th>\n",
       "      <th>8. Egy évközbeni zhra mennyivel hamarabb kezdesz el készülni?</th>\n",
       "      <th>9. Vizsgára mennyivel hamarabb kezdesz el tanulni?</th>\n",
       "      <th>10. A nap folyamán mikor tudsz a legeredményesebben tanulni?</th>\n",
       "      <th>11. Számonkérés előtt pár órával, az utolsó pillanatokban szoktál e még tanulni?</th>\n",
       "      <th>12. Hallgatsz zenét tanultás közben?</th>\n",
       "      <th>13. Hol laksz?</th>\n",
       "      <th>14. Reprodukálod önállóan egy gyakorlati feladat megoldását, a megoldókulcsot nem nézve?</th>\n",
       "      <th>Hány kreditet szereztél előző félévben?</th>\n",
       "    </tr>\n",
       "  </thead>\n",
       "  <tbody>\n",
       "    <tr>\n",
       "      <th>0</th>\n",
       "      <td>2015/12/05 6:49:21 du. CET</td>\n",
       "      <td>1</td>\n",
       "      <td>0</td>\n",
       "      <td>2</td>\n",
       "      <td>0</td>\n",
       "      <td>0</td>\n",
       "      <td>1</td>\n",
       "      <td>0</td>\n",
       "      <td>1</td>\n",
       "      <td>2</td>\n",
       "      <td>0</td>\n",
       "      <td>2</td>\n",
       "      <td>1</td>\n",
       "      <td>0</td>\n",
       "      <td>1</td>\n",
       "      <td>5</td>\n",
       "    </tr>\n",
       "    <tr>\n",
       "      <th>1</th>\n",
       "      <td>2015/12/05 6:49:21 du. CET</td>\n",
       "      <td>1</td>\n",
       "      <td>1</td>\n",
       "      <td>2</td>\n",
       "      <td>1</td>\n",
       "      <td>1</td>\n",
       "      <td>1</td>\n",
       "      <td>1</td>\n",
       "      <td>1</td>\n",
       "      <td>2</td>\n",
       "      <td>1</td>\n",
       "      <td>2</td>\n",
       "      <td>2</td>\n",
       "      <td>1</td>\n",
       "      <td>2</td>\n",
       "      <td>1</td>\n",
       "    </tr>\n",
       "    <tr>\n",
       "      <th>2</th>\n",
       "      <td>2015/12/05 6:49:57 du. CET</td>\n",
       "      <td>1</td>\n",
       "      <td>0</td>\n",
       "      <td>2</td>\n",
       "      <td>0</td>\n",
       "      <td>1</td>\n",
       "      <td>1</td>\n",
       "      <td>0</td>\n",
       "      <td>2</td>\n",
       "      <td>2</td>\n",
       "      <td>0</td>\n",
       "      <td>2</td>\n",
       "      <td>1</td>\n",
       "      <td>0</td>\n",
       "      <td>0</td>\n",
       "      <td>5</td>\n",
       "    </tr>\n",
       "    <tr>\n",
       "      <th>3</th>\n",
       "      <td>2015/12/05 6:50:03 du. CET</td>\n",
       "      <td>1</td>\n",
       "      <td>0</td>\n",
       "      <td>1</td>\n",
       "      <td>2</td>\n",
       "      <td>0</td>\n",
       "      <td>1</td>\n",
       "      <td>0</td>\n",
       "      <td>1</td>\n",
       "      <td>2</td>\n",
       "      <td>1</td>\n",
       "      <td>2</td>\n",
       "      <td>2</td>\n",
       "      <td>1</td>\n",
       "      <td>1</td>\n",
       "      <td>6</td>\n",
       "    </tr>\n",
       "    <tr>\n",
       "      <th>4</th>\n",
       "      <td>2015/12/05 6:50:35 du. CET</td>\n",
       "      <td>1</td>\n",
       "      <td>0</td>\n",
       "      <td>1</td>\n",
       "      <td>2</td>\n",
       "      <td>1</td>\n",
       "      <td>1</td>\n",
       "      <td>0</td>\n",
       "      <td>2</td>\n",
       "      <td>2</td>\n",
       "      <td>1</td>\n",
       "      <td>2</td>\n",
       "      <td>2</td>\n",
       "      <td>2</td>\n",
       "      <td>1</td>\n",
       "      <td>5</td>\n",
       "    </tr>\n",
       "  </tbody>\n",
       "</table>\n",
       "</div>"
      ],
      "text/plain": [
       "                    Időbélyeg  \\\n",
       "0  2015/12/05 6:49:21 du. CET   \n",
       "1  2015/12/05 6:49:21 du. CET   \n",
       "2  2015/12/05 6:49:57 du. CET   \n",
       "3  2015/12/05 6:50:03 du. CET   \n",
       "4  2015/12/05 6:50:35 du. CET   \n",
       "\n",
       "   1. Mennyire rendszeresen látogatod az előadásokat?  \\\n",
       "0                                                  1    \n",
       "1                                                  1    \n",
       "2                                                  1    \n",
       "3                                                  1    \n",
       "4                                                  1    \n",
       "\n",
       "   2. Készítesz jegyzetet az előadásokon?  \\\n",
       "0                                       0   \n",
       "1                                       1   \n",
       "2                                       0   \n",
       "3                                       0   \n",
       "4                                       0   \n",
       "\n",
       "   3. Bejársz jelenléti nélküli gyakorlatokra?  \\\n",
       "0                                            2   \n",
       "1                                            2   \n",
       "2                                            2   \n",
       "3                                            1   \n",
       "4                                            1   \n",
       "\n",
       "   4. Miből szoktál tanulni? (leginkább)  \\\n",
       "0                                      0   \n",
       "1                                      1   \n",
       "2                                      0   \n",
       "3                                      2   \n",
       "4                                      2   \n",
       "\n",
       "   5. Egyedül vagy csoportosan, másokkal együtt tanulsz inkább?  \\\n",
       "0                                                  0              \n",
       "1                                                  1              \n",
       "2                                                  1              \n",
       "3                                                  0              \n",
       "4                                                  1              \n",
       "\n",
       "   6. Tanulás során készítesz saját jegyzetet?  \\\n",
       "0                                            1   \n",
       "1                                            1   \n",
       "2                                            1   \n",
       "3                                            1   \n",
       "4                                            1   \n",
       "\n",
       "   7. Ha van ajánlott irodalom a tárgyhoz akkor bele szoktál olvasni?  \\\n",
       "0                                                  0                    \n",
       "1                                                  1                    \n",
       "2                                                  0                    \n",
       "3                                                  0                    \n",
       "4                                                  0                    \n",
       "\n",
       "   8. Egy évközbeni zhra mennyivel hamarabb kezdesz el készülni?  \\\n",
       "0                                                  1               \n",
       "1                                                  1               \n",
       "2                                                  2               \n",
       "3                                                  1               \n",
       "4                                                  2               \n",
       "\n",
       "   9. Vizsgára mennyivel hamarabb kezdesz el tanulni?  \\\n",
       "0                                                  2    \n",
       "1                                                  2    \n",
       "2                                                  2    \n",
       "3                                                  2    \n",
       "4                                                  2    \n",
       "\n",
       "   10. A nap folyamán mikor tudsz a legeredményesebben tanulni?  \\\n",
       "0                                                  0              \n",
       "1                                                  1              \n",
       "2                                                  0              \n",
       "3                                                  1              \n",
       "4                                                  1              \n",
       "\n",
       "   11. Számonkérés előtt pár órával, az utolsó pillanatokban szoktál e még tanulni?  \\\n",
       "0                                                  2                                  \n",
       "1                                                  2                                  \n",
       "2                                                  2                                  \n",
       "3                                                  2                                  \n",
       "4                                                  2                                  \n",
       "\n",
       "   12. Hallgatsz zenét tanultás közben?  13. Hol laksz?  \\\n",
       "0                                     1               0   \n",
       "1                                     2               1   \n",
       "2                                     1               0   \n",
       "3                                     2               1   \n",
       "4                                     2               2   \n",
       "\n",
       "   14. Reprodukálod önállóan egy gyakorlati feladat megoldását, a megoldókulcsot nem nézve?  \\\n",
       "0                                                  1                                          \n",
       "1                                                  2                                          \n",
       "2                                                  0                                          \n",
       "3                                                  1                                          \n",
       "4                                                  1                                          \n",
       "\n",
       "   Hány kreditet szereztél előző félévben?  \n",
       "0                                        5  \n",
       "1                                        1  \n",
       "2                                        5  \n",
       "3                                        6  \n",
       "4                                        5  "
      ]
     },
     "execution_count": 40,
     "metadata": {},
     "output_type": "execute_result"
    }
   ],
   "source": [
    "features_with_numbers.head(5)"
   ]
  },
  {
   "cell_type": "markdown",
   "metadata": {},
   "source": [
    "# Data and Target"
   ]
  },
  {
   "cell_type": "code",
   "execution_count": 41,
   "metadata": {
    "collapsed": false
   },
   "outputs": [],
   "source": [
    "features_with_numbers_values = features_with_numbers.values"
   ]
  },
  {
   "cell_type": "code",
   "execution_count": 42,
   "metadata": {
    "collapsed": false
   },
   "outputs": [],
   "source": [
    "data = features_with_numbers_values[:,1:15]"
   ]
  },
  {
   "cell_type": "code",
   "execution_count": 50,
   "metadata": {
    "collapsed": false
   },
   "outputs": [
    {
     "data": {
      "text/plain": [
       "(141, 14)"
      ]
     },
     "execution_count": 50,
     "metadata": {},
     "output_type": "execute_result"
    }
   ],
   "source": [
    "data.shape"
   ]
  },
  {
   "cell_type": "code",
   "execution_count": 44,
   "metadata": {
    "collapsed": false
   },
   "outputs": [],
   "source": [
    "target = features_with_numbers_values[:,15]"
   ]
  },
  {
   "cell_type": "code",
   "execution_count": 45,
   "metadata": {
    "collapsed": false
   },
   "outputs": [
    {
     "data": {
      "text/plain": [
       "array([5, 1, 5, 6, 5, 5, 6, 5, 3, 6, 3, 3, 6, 1, 6, 3, 6, 5, 5, 4, 6, 5, 2,\n",
       "       5, 3, 4, 6, 5, 6, 5, 5, 6, 4, 5, 2, 5, 6, 4, 6, 4, 4, 2, 4, 6, 5, 5,\n",
       "       4, 2, 6, 5, 6, 5, 3, 3, 5, 5, 6, 5, 6, 6, 3, 6, 7, 5, 4, 7, 4, 6, 3,\n",
       "       5, 5, 3, 4, 5, 6, 6, 4, 4, 5, 6, 6, 6, 4, 6, 7, 4, 5, 4, 1, 5, 6, 2,\n",
       "       5, 6, 5, 4, 4, 1, 6, 5, 4, 5, 6, 4, 3, 6, 2, 4, 5, 5, 4, 4, 5, 4, 5,\n",
       "       3, 6, 5, 6, 4, 6, 5, 6, 5, 6, 5, 4, 1, 4, 6, 4, 6, 4, 6, 6, 1, 7, 5,\n",
       "       6, 5, 1], dtype=object)"
      ]
     },
     "execution_count": 45,
     "metadata": {},
     "output_type": "execute_result"
    }
   ],
   "source": [
    "target"
   ]
  },
  {
   "cell_type": "markdown",
   "metadata": {},
   "source": [
    "# DecisionTree"
   ]
  },
  {
   "cell_type": "code",
   "execution_count": 57,
   "metadata": {
    "collapsed": true
   },
   "outputs": [],
   "source": [
    "clf = tree.DecisionTreeClassifier(max_depth=6)"
   ]
  },
  {
   "cell_type": "code",
   "execution_count": 58,
   "metadata": {
    "collapsed": false
   },
   "outputs": [
    {
     "data": {
      "text/plain": [
       "DecisionTreeClassifier(class_weight=None, criterion='gini', max_depth=6,\n",
       "            max_features=None, max_leaf_nodes=None, min_samples_leaf=1,\n",
       "            min_samples_split=2, min_weight_fraction_leaf=0.0,\n",
       "            random_state=None, splitter='best')"
      ]
     },
     "execution_count": 58,
     "metadata": {},
     "output_type": "execute_result"
    }
   ],
   "source": [
    "clf.fit(data,target)"
   ]
  },
  {
   "cell_type": "code",
   "execution_count": 59,
   "metadata": {
    "collapsed": false
   },
   "outputs": [
    {
     "data": {
      "text/plain": [
       "True"
      ]
     },
     "execution_count": 59,
     "metadata": {},
     "output_type": "execute_result"
    }
   ],
   "source": [
    "dot_data = StringIO() \n",
    "tree.export_graphviz(clf, out_file=dot_data) \n",
    "graph = pydot.graph_from_dot_data(dot_data.getvalue()) \n",
    "graph.write_pdf(\"tree.pdf\") "
   ]
  },
  {
   "cell_type": "code",
   "execution_count": null,
   "metadata": {
    "collapsed": true
   },
   "outputs": [],
   "source": []
  }
 ],
 "metadata": {
  "kernelspec": {
   "display_name": "Python 2",
   "language": "python",
   "name": "python2"
  },
  "language_info": {
   "codemirror_mode": {
    "name": "ipython",
    "version": 2
   },
   "file_extension": ".py",
   "mimetype": "text/x-python",
   "name": "python",
   "nbconvert_exporter": "python",
   "pygments_lexer": "ipython2",
   "version": "2.7.10"
  }
 },
 "nbformat": 4,
 "nbformat_minor": 0
}
