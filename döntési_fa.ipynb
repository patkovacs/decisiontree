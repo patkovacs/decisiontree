{
 "cells": [
  {
   "cell_type": "code",
   "execution_count": 85,
   "metadata": {
    "collapsed": false
   },
   "outputs": [],
   "source": [
    "import pandas as pd\n",
    "import numpy as np\n",
    "import matplotlib.pyplot"
   ]
  },
  {
   "cell_type": "code",
   "execution_count": 86,
   "metadata": {
    "collapsed": false
   },
   "outputs": [],
   "source": [
    "kerdo_iv = pd.read_csv(\"kerdo_iv.csv\")"
   ]
  },
  {
   "cell_type": "code",
   "execution_count": 38,
   "metadata": {
    "collapsed": false
   },
   "outputs": [
    {
     "data": {
      "text/html": [
       "<div>\n",
       "<table border=\"1\" class=\"dataframe\">\n",
       "  <thead>\n",
       "    <tr style=\"text-align: right;\">\n",
       "      <th></th>\n",
       "      <th>Időbélyeg</th>\n",
       "      <th>1. Mennyire rendszeresen látogatod az előadásokat?</th>\n",
       "      <th>2. Készítesz jegyzetet az előadásokon?</th>\n",
       "      <th>3. Bejársz jelenléti nélküli gyakorlatokra?</th>\n",
       "      <th>4. Miből szoktál tanulni? (leginkább)</th>\n",
       "      <th>5. Egyedül vagy csoportosan, másokkal együtt tanulsz inkább?</th>\n",
       "      <th>6. Tanulás során készítesz saját jegyzetet?</th>\n",
       "      <th>7. Ha van ajánlott irodalom a tárgyhoz akkor bele szoktál olvasni?</th>\n",
       "      <th>8. Egy évközbeni zhra mennyivel hamarabb kezdesz el készülni?</th>\n",
       "      <th>9. Vizsgára mennyivel hamarabb kezdesz el tanulni?</th>\n",
       "      <th>10. A nap folyamán mikor tudsz a legeredményesebben tanulni?</th>\n",
       "      <th>11. Számonkérés előtt pár órával, az utolsó pillanatokban szoktál e még tanulni?</th>\n",
       "      <th>12. Hallgatsz zenét tanultás közben?</th>\n",
       "      <th>13. Hol laksz?</th>\n",
       "      <th>14. Reprodukálod önállóan egy gyakorlati feladat megoldását, a megoldókulcsot nem nézve?</th>\n",
       "      <th>Hány kreditet szereztél előző félévben?</th>\n",
       "    </tr>\n",
       "  </thead>\n",
       "  <tbody>\n",
       "    <tr>\n",
       "      <th>0</th>\n",
       "      <td>2015/12/05 6:49:21 du. CET</td>\n",
       "      <td>Néha</td>\n",
       "      <td>Nem</td>\n",
       "      <td>Rendszeresen</td>\n",
       "      <td>Diasorok</td>\n",
       "      <td>Csoportosan</td>\n",
       "      <td>Néha</td>\n",
       "      <td>Nem</td>\n",
       "      <td>Pár nappal</td>\n",
       "      <td>1 héttel</td>\n",
       "      <td>Délután</td>\n",
       "      <td>Rendszeresen</td>\n",
       "      <td>Néha</td>\n",
       "      <td>Albérlet</td>\n",
       "      <td>Néha</td>\n",
       "      <td>26 - 30 kredit</td>\n",
       "    </tr>\n",
       "    <tr>\n",
       "      <th>1</th>\n",
       "      <td>2015/12/05 6:49:21 du. CET</td>\n",
       "      <td>Néha</td>\n",
       "      <td>Igen</td>\n",
       "      <td>Rendszeresen</td>\n",
       "      <td>Mások által készített jegyzetből</td>\n",
       "      <td>Egyedül</td>\n",
       "      <td>Néha</td>\n",
       "      <td>Igen</td>\n",
       "      <td>Pár nappal</td>\n",
       "      <td>1 héttel</td>\n",
       "      <td>Éjszaka / este</td>\n",
       "      <td>Rendszeresen</td>\n",
       "      <td>Rendszeresen</td>\n",
       "      <td>Kollégiumban</td>\n",
       "      <td>Rendszeresen</td>\n",
       "      <td>0 - 10 kredit</td>\n",
       "    </tr>\n",
       "    <tr>\n",
       "      <th>2</th>\n",
       "      <td>2015/12/05 6:49:57 du. CET</td>\n",
       "      <td>Néha</td>\n",
       "      <td>Nem</td>\n",
       "      <td>Rendszeresen</td>\n",
       "      <td>Diasorok</td>\n",
       "      <td>Egyedül</td>\n",
       "      <td>Néha</td>\n",
       "      <td>Nem</td>\n",
       "      <td>1 héttel</td>\n",
       "      <td>1 héttel</td>\n",
       "      <td>Délután</td>\n",
       "      <td>Rendszeresen</td>\n",
       "      <td>Néha</td>\n",
       "      <td>Albérlet</td>\n",
       "      <td>Soha</td>\n",
       "      <td>26 - 30 kredit</td>\n",
       "    </tr>\n",
       "    <tr>\n",
       "      <th>3</th>\n",
       "      <td>2015/12/05 6:50:03 du. CET</td>\n",
       "      <td>Néha</td>\n",
       "      <td>Nem</td>\n",
       "      <td>Néha</td>\n",
       "      <td>VikWikis anyag</td>\n",
       "      <td>Csoportosan</td>\n",
       "      <td>Néha</td>\n",
       "      <td>Nem</td>\n",
       "      <td>Pár nappal</td>\n",
       "      <td>1 héttel</td>\n",
       "      <td>Éjszaka / este</td>\n",
       "      <td>Rendszeresen</td>\n",
       "      <td>Rendszeresen</td>\n",
       "      <td>Kollégiumban</td>\n",
       "      <td>Néha</td>\n",
       "      <td>31 - 37 kredit</td>\n",
       "    </tr>\n",
       "    <tr>\n",
       "      <th>4</th>\n",
       "      <td>2015/12/05 6:50:35 du. CET</td>\n",
       "      <td>Néha</td>\n",
       "      <td>Nem</td>\n",
       "      <td>Néha</td>\n",
       "      <td>VikWikis anyag</td>\n",
       "      <td>Egyedül</td>\n",
       "      <td>Néha</td>\n",
       "      <td>Nem</td>\n",
       "      <td>1 héttel</td>\n",
       "      <td>1 héttel</td>\n",
       "      <td>Éjszaka / este</td>\n",
       "      <td>Rendszeresen</td>\n",
       "      <td>Rendszeresen</td>\n",
       "      <td>Otthon</td>\n",
       "      <td>Néha</td>\n",
       "      <td>26 - 30 kredit</td>\n",
       "    </tr>\n",
       "  </tbody>\n",
       "</table>\n",
       "</div>"
      ],
      "text/plain": [
       "                    Időbélyeg  \\\n",
       "0  2015/12/05 6:49:21 du. CET   \n",
       "1  2015/12/05 6:49:21 du. CET   \n",
       "2  2015/12/05 6:49:57 du. CET   \n",
       "3  2015/12/05 6:50:03 du. CET   \n",
       "4  2015/12/05 6:50:35 du. CET   \n",
       "\n",
       "  1. Mennyire rendszeresen látogatod az előadásokat?  \\\n",
       "0                                               Néha   \n",
       "1                                               Néha   \n",
       "2                                               Néha   \n",
       "3                                               Néha   \n",
       "4                                               Néha   \n",
       "\n",
       "  2. Készítesz jegyzetet az előadásokon?  \\\n",
       "0                                    Nem   \n",
       "1                                   Igen   \n",
       "2                                    Nem   \n",
       "3                                    Nem   \n",
       "4                                    Nem   \n",
       "\n",
       "  3. Bejársz jelenléti nélküli gyakorlatokra?  \\\n",
       "0                                Rendszeresen   \n",
       "1                                Rendszeresen   \n",
       "2                                Rendszeresen   \n",
       "3                                        Néha   \n",
       "4                                        Néha   \n",
       "\n",
       "  4. Miből szoktál tanulni? (leginkább)  \\\n",
       "0                              Diasorok   \n",
       "1      Mások által készített jegyzetből   \n",
       "2                              Diasorok   \n",
       "3                        VikWikis anyag   \n",
       "4                        VikWikis anyag   \n",
       "\n",
       "  5. Egyedül vagy csoportosan, másokkal együtt tanulsz inkább?  \\\n",
       "0                                        Csoportosan             \n",
       "1                                            Egyedül             \n",
       "2                                            Egyedül             \n",
       "3                                        Csoportosan             \n",
       "4                                            Egyedül             \n",
       "\n",
       "  6. Tanulás során készítesz saját jegyzetet?  \\\n",
       "0                                        Néha   \n",
       "1                                        Néha   \n",
       "2                                        Néha   \n",
       "3                                        Néha   \n",
       "4                                        Néha   \n",
       "\n",
       "  7. Ha van ajánlott irodalom a tárgyhoz akkor bele szoktál olvasni?  \\\n",
       "0                                                Nem                   \n",
       "1                                               Igen                   \n",
       "2                                                Nem                   \n",
       "3                                                Nem                   \n",
       "4                                                Nem                   \n",
       "\n",
       "  8. Egy évközbeni zhra mennyivel hamarabb kezdesz el készülni?  \\\n",
       "0                                         Pár nappal              \n",
       "1                                         Pár nappal              \n",
       "2                                           1 héttel              \n",
       "3                                         Pár nappal              \n",
       "4                                           1 héttel              \n",
       "\n",
       "  9. Vizsgára mennyivel hamarabb kezdesz el tanulni?  \\\n",
       "0                                           1 héttel   \n",
       "1                                           1 héttel   \n",
       "2                                           1 héttel   \n",
       "3                                           1 héttel   \n",
       "4                                           1 héttel   \n",
       "\n",
       "  10. A nap folyamán mikor tudsz a legeredményesebben tanulni?  \\\n",
       "0                                            Délután             \n",
       "1                                     Éjszaka / este             \n",
       "2                                            Délután             \n",
       "3                                     Éjszaka / este             \n",
       "4                                     Éjszaka / este             \n",
       "\n",
       "  11. Számonkérés előtt pár órával, az utolsó pillanatokban szoktál e még tanulni?  \\\n",
       "0                                       Rendszeresen                                 \n",
       "1                                       Rendszeresen                                 \n",
       "2                                       Rendszeresen                                 \n",
       "3                                       Rendszeresen                                 \n",
       "4                                       Rendszeresen                                 \n",
       "\n",
       "  12. Hallgatsz zenét tanultás közben? 13. Hol laksz?  \\\n",
       "0                                 Néha       Albérlet   \n",
       "1                         Rendszeresen   Kollégiumban   \n",
       "2                                 Néha       Albérlet   \n",
       "3                         Rendszeresen   Kollégiumban   \n",
       "4                         Rendszeresen         Otthon   \n",
       "\n",
       "  14. Reprodukálod önállóan egy gyakorlati feladat megoldását, a megoldókulcsot nem nézve?  \\\n",
       "0                                               Néha                                         \n",
       "1                                       Rendszeresen                                         \n",
       "2                                               Soha                                         \n",
       "3                                               Néha                                         \n",
       "4                                               Néha                                         \n",
       "\n",
       "  Hány kreditet szereztél előző félévben?  \n",
       "0                          26 - 30 kredit  \n",
       "1                           0 - 10 kredit  \n",
       "2                          26 - 30 kredit  \n",
       "3                          31 - 37 kredit  \n",
       "4                          26 - 30 kredit  "
      ]
     },
     "execution_count": 38,
     "metadata": {},
     "output_type": "execute_result"
    }
   ],
   "source": [
    "kerdo_iv.head(5)"
   ]
  },
  {
   "cell_type": "code",
   "execution_count": 95,
   "metadata": {
    "collapsed": true
   },
   "outputs": [],
   "source": [
    "features = kerdo_iv"
   ]
  },
  {
   "cell_type": "markdown",
   "metadata": {},
   "source": [
    "# soha/néha/rendszeresen értékek átírása 0/1/2 -re"
   ]
  },
  {
   "cell_type": "code",
   "execution_count": 96,
   "metadata": {
    "collapsed": false
   },
   "outputs": [],
   "source": [
    "soha_indexes = features == \"Soha\""
   ]
  },
  {
   "cell_type": "code",
   "execution_count": 97,
   "metadata": {
    "collapsed": false
   },
   "outputs": [],
   "source": [
    "features[soha_indexes] = 0"
   ]
  },
  {
   "cell_type": "code",
   "execution_count": 98,
   "metadata": {
    "collapsed": true
   },
   "outputs": [],
   "source": [
    "neha_indexes = features == \"Néha\""
   ]
  },
  {
   "cell_type": "code",
   "execution_count": 99,
   "metadata": {
    "collapsed": false
   },
   "outputs": [],
   "source": [
    "features[neha_indexes] = 1"
   ]
  },
  {
   "cell_type": "code",
   "execution_count": 100,
   "metadata": {
    "collapsed": true
   },
   "outputs": [],
   "source": [
    "rendszeresen_indexes = features == \"Rendszeresen\""
   ]
  },
  {
   "cell_type": "code",
   "execution_count": 101,
   "metadata": {
    "collapsed": true
   },
   "outputs": [],
   "source": [
    "features[rendszeresen_indexes] = 2"
   ]
  },
  {
   "cell_type": "markdown",
   "metadata": {},
   "source": [
    "# igen/nem átírása 1/0 értékre"
   ]
  },
  {
   "cell_type": "code",
   "execution_count": 103,
   "metadata": {
    "collapsed": true
   },
   "outputs": [],
   "source": [
    "nem_indexes = features == \"Nem\""
   ]
  },
  {
   "cell_type": "code",
   "execution_count": 104,
   "metadata": {
    "collapsed": true
   },
   "outputs": [],
   "source": [
    "igen_indexes = features == \"Igen\""
   ]
  },
  {
   "cell_type": "code",
   "execution_count": 105,
   "metadata": {
    "collapsed": true
   },
   "outputs": [],
   "source": [
    "features[nem_indexes] = 0"
   ]
  },
  {
   "cell_type": "code",
   "execution_count": 106,
   "metadata": {
    "collapsed": true
   },
   "outputs": [],
   "source": [
    "features[igen_indexes] = 1"
   ]
  },
  {
   "cell_type": "code",
   "execution_count": null,
   "metadata": {
    "collapsed": true
   },
   "outputs": [],
   "source": []
  }
 ],
 "metadata": {
  "kernelspec": {
   "display_name": "Python 2",
   "language": "python",
   "name": "python2"
  },
  "language_info": {
   "codemirror_mode": {
    "name": "ipython",
    "version": 2
   },
   "file_extension": ".py",
   "mimetype": "text/x-python",
   "name": "python",
   "nbconvert_exporter": "python",
   "pygments_lexer": "ipython2",
   "version": "2.7.10"
  }
 },
 "nbformat": 4,
 "nbformat_minor": 0
}
